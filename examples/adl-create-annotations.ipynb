{
 "cells": [
  {
   "cell_type": "code",
   "execution_count": 1,
   "metadata": {
    "collapsed": true
   },
   "outputs": [],
   "source": [
    "import numpy as np\n",
    "import pandas as pd\n",
    "\n",
    "from os.path import expanduser"
   ]
  },
  {
   "cell_type": "code",
   "execution_count": 2,
   "metadata": {
    "collapsed": true
   },
   "outputs": [],
   "source": [
    "data_path = expanduser(\"~/data/adl/\")\n",
    "adl_annotation_path = ''.join([data_path, 'ADL_annotations/object_annotation/'])\n",
    "videos_path = ''.join([data_path,'videos/'])\n",
    "frames_path = ''.join([data_path,'images/'])\n",
    "anno_path = ''.join([data_path,'Annotations/'])"
   ]
  },
  {
   "cell_type": "code",
   "execution_count": 3,
   "metadata": {
    "collapsed": true
   },
   "outputs": [],
   "source": [
    "def load_csv(path):\n",
    "    df = pd.read_csv(path)\n",
    "    present = df[df['present']==1] # filter only present items\n",
    "    present['object_label'] = present['object_label'].map(lambda x: x.strip())\n",
    "    return present"
   ]
  },
  {
   "cell_type": "code",
   "execution_count": 4,
   "metadata": {
    "collapsed": false
   },
   "outputs": [
    {
     "name": "stderr",
     "output_type": "stream",
     "text": [
      "/usr/lib/python2.7/site-packages/ipykernel/__main__.py:4: SettingWithCopyWarning: \n",
      "A value is trying to be set on a copy of a slice from a DataFrame.\n",
      "Try using .loc[row_indexer,col_indexer] = value instead\n",
      "\n",
      "See the caveats in the documentation: http://pandas.pydata.org/pandas-docs/stable/indexing.html#indexing-view-versus-copy\n"
     ]
    }
   ],
   "source": [
    "dfs = [None] * 20\n",
    "for i in range(1, 21):\n",
    "    if i < 10:\n",
    "        idx = '0' + str(i)\n",
    "    else:\n",
    "        idx = str(i)\n",
    "    path = ''.join([adl_annotation_path, 'object_annot_P_', idx, '.txt.csv'])\n",
    "    dfs[i-1] = load_csv(path)\n",
    "    dfs[i-1].loc[:, 'frame_number'] += i * 1000000\n",
    "df = pd.concat(dfs)\n",
    "df['object_label'] = df['object_label'].map(lambda x: x.strip()) # some fields have white space"
   ]
  },
  {
   "cell_type": "code",
   "execution_count": 5,
   "metadata": {
    "collapsed": false
   },
   "outputs": [],
   "source": [
    "df = df.drop(df.columns[0], axis=1)\n",
    "df.to_csv(''.join([data_path, 'present_objects.csv']))"
   ]
  },
  {
   "cell_type": "code",
   "execution_count": 6,
   "metadata": {
    "collapsed": false
   },
   "outputs": [],
   "source": [
    "frames = pd.DataFrame(df.frame_number.unique())\n",
    "train_fr, validate_fr, test_fr = np.split(frames.sample(frac=1), [int(.6*len(frames)), int(.8*len(frames))])\n",
    "trainval_fr = pd.concat([train_fr, validate_fr])"
   ]
  },
  {
   "cell_type": "code",
   "execution_count": 7,
   "metadata": {
    "collapsed": false
   },
   "outputs": [],
   "source": [
    "trainval = df[df['frame_number'].isin(trainval_fr[0].values)]\n",
    "test = df[df['frame_number'].isin(test_fr[0].values)]"
   ]
  },
  {
   "cell_type": "code",
   "execution_count": 8,
   "metadata": {
    "collapsed": false
   },
   "outputs": [],
   "source": [
    "with open(\"{}trainval.txt\".format(data_path), \"w+\") as trainval_file:\n",
    "    for frame_num in trainval_fr[0].values:\n",
    "        img = \"{}frame_{}.jpg\".format(frames_path, frame_num)\n",
    "        anno = \"{}adl_{}.json\".format(anno_path, frame_num)\n",
    "        trainval_file.write(\"{} {}\\n\".format(img, anno))"
   ]
  },
  {
   "cell_type": "code",
   "execution_count": 9,
   "metadata": {
    "collapsed": true
   },
   "outputs": [],
   "source": [
    "with open(\"{}test.txt\".format(data_path), \"w+\") as test_file:\n",
    "    for frame_num in test_fr[0].values:\n",
    "        img = \"{}frame_{}.jpg\".format(frames_path, frame_num)\n",
    "        anno = \"{}adl_{}.json\".format(anno_path, frame_num)\n",
    "        test_file.write(\"{} {}\\n\".format(img, anno))"
   ]
  },
  {
   "cell_type": "code",
   "execution_count": 10,
   "metadata": {
    "collapsed": false
   },
   "outputs": [],
   "source": [
    "labels = df.object_label.value_counts().index\n",
    "label_to_index = {}\n",
    "with open(\"{}labels.txt\".format(data_path), \"w+\") as label_file:\n",
    "    i = 1\n",
    "    for label in labels:\n",
    "        label_file.write(\"{},{},{}\\n\".format(i, i, label))\n",
    "        label_to_index[label] = i\n",
    "        i += 1\n",
    "\n",
    "# df_i = df\n",
    "# df_i['object_label'] = df_i['object_label'].map(label_to_index)\n",
    "# df_i.to_csv(\"{}data_int_labels.csv\".format(data_path))"
   ]
  },
  {
   "cell_type": "code",
   "execution_count": 11,
   "metadata": {
    "collapsed": false
   },
   "outputs": [
    {
     "name": "stdout",
     "output_type": "stream",
     "text": [
      "1000258 fridge\n"
     ]
    }
   ],
   "source": [
    "for index, row in df.iterrows():\n",
    "    print row['frame_number'], row['object_label']\n",
    "    break"
   ]
  },
  {
   "cell_type": "code",
   "execution_count": 12,
   "metadata": {
    "collapsed": false
   },
   "outputs": [],
   "source": [
    "from jinja2 import Template\n",
    "\n",
    "with open(\"{}template.xml\".format(data_path), \"r\") as tmpl:\n",
    "    t = Template(tmpl.read())\n",
    "\n",
    "for frame_num in frames[0].values:\n",
    "    rows = df.loc[df['frame_number'] == frame_num]\n",
    "    with open(\"{}adl_{}.xml\".format(anno_path, frame_num), \"w+\") as anno_file:\n",
    "        rendered = t.render(frame_num=frame_num, rows=rows)\n",
    "        anno_file.write(rendered)\n",
    "    break"
   ]
  },
  {
   "cell_type": "code",
   "execution_count": 13,
   "metadata": {
    "collapsed": false
   },
   "outputs": [],
   "source": [
    "with open(\"{}test_name_size.txt\".format(data_path), \"w+\") as label_file:\n",
    "    for frame in test_fr[0].values:\n",
    "        label_file.write(\"{} {} {}\\n\".format(frame, 960, 1280))"
   ]
  },
  {
   "cell_type": "code",
   "execution_count": null,
   "metadata": {
    "collapsed": true
   },
   "outputs": [],
   "source": []
  }
 ],
 "metadata": {
  "kernelspec": {
   "display_name": "Python 2",
   "language": "python2",
   "name": "python2"
  },
  "language_info": {
   "codemirror_mode": {
    "name": "ipython",
    "version": 2
   },
   "file_extension": ".py",
   "mimetype": "text/x-python",
   "name": "python",
   "nbconvert_exporter": "python",
   "pygments_lexer": "ipython2",
   "version": "2.7.13"
  }
 },
 "nbformat": 4,
 "nbformat_minor": 2
}
