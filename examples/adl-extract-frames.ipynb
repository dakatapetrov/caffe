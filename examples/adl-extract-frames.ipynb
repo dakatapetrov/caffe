{
 "cells": [
  {
   "cell_type": "code",
   "execution_count": 1,
   "metadata": {
    "collapsed": false
   },
   "outputs": [
    {
     "name": "stdout",
     "output_type": "stream",
     "text": [
      "3.1.0\n"
     ]
    }
   ],
   "source": [
    "import cv2\n",
    "print(cv2.__version__)\n",
    "\n",
    "import numpy as np\n",
    "import pandas as pd"
   ]
  },
  {
   "cell_type": "code",
   "execution_count": 2,
   "metadata": {
    "collapsed": true
   },
   "outputs": [],
   "source": [
    "data_path = '~/data/adl/'\n",
    "annotation_path = ''.join([data_path, 'ADL_annotations/object_annotation/'])\n",
    "videos_path = ''.join([data_path,'videos/'])\n",
    "frames_path = ''.join([data_path,'frames/'])\n",
    "\n",
    "\n",
    "def load_csv(path):\n",
    "    df = pd.read_csv(path,\n",
    "                         usecols=['frame_number', 'object_label', 'present'],\n",
    "                         converters={'object_label':str, 'frame_number':int, 'present':int})\n",
    "    return df"
   ]
  },
  {
   "cell_type": "code",
   "execution_count": 3,
   "metadata": {
    "collapsed": false
   },
   "outputs": [
    {
     "name": "stdout",
     "output_type": "stream",
     "text": [
      "('Video: ', '01')\n",
      "('Video: ', '02')\n",
      "('Video: ', '03')\n",
      "('Video: ', '04')\n",
      "('Video: ', '05')\n",
      "('Video: ', '06')\n",
      "('Video: ', '07')\n",
      "('Video: ', '08')\n",
      "('Video: ', '09')\n",
      "('Video: ', '10')\n",
      "('Video: ', '11')\n",
      "('Video: ', '12')\n",
      "('Video: ', '13')\n",
      "('Video: ', '14')\n",
      "('Video: ', '15')\n",
      "('Video: ', '16')\n",
      "('Video: ', '17')\n",
      "('Video: ', '18')\n",
      "('Video: ', '19')\n",
      "('Video: ', '20')\n"
     ]
    }
   ],
   "source": [
    "for i in range(1, 21):\n",
    "    if i < 10:\n",
    "        idx = '0' + str(i)\n",
    "    else:\n",
    "        idx = str(i)\n",
    "    print(\"Video: \", idx)\n",
    "    data_path = ''.join([annotation_path, 'object_annot_P_', idx, '.txt.csv'])\n",
    "    video_path = ''.join([videos_path, 'P_', idx, '.MP4'])\n",
    "    df = load_csv(data_path)\n",
    "    vidcap = cv2.VideoCapture(video_path)\n",
    "    success,image = vidcap.read()\n",
    "    count = 0\n",
    "    success = True\n",
    "    while success:\n",
    "        success,image = vidcap.read()\n",
    "        if count in df.frame_number.values:\n",
    "            cv2.imwrite(\"{}frame_{}_{}.jpg\".format(frames_path, idx, str(i * 1000000 + count)), image)     # save frame as JPEG file\n",
    "        count += 1"
   ]
  },
  {
   "cell_type": "code",
   "execution_count": null,
   "metadata": {
    "collapsed": true
   },
   "outputs": [],
   "source": []
  }
 ],
 "metadata": {
  "kernelspec": {
   "display_name": "Python 2",
   "language": "python2",
   "name": "python2"
  },
  "language_info": {
   "codemirror_mode": {
    "name": "ipython",
    "version": 2
   },
   "file_extension": ".py",
   "mimetype": "text/x-python",
   "name": "python",
   "nbconvert_exporter": "python",
   "pygments_lexer": "ipython2",
   "version": "2.7.13"
  }
 },
 "nbformat": 4,
 "nbformat_minor": 2
}
